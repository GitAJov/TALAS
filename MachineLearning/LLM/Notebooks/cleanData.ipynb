{
 "cells": [
  {
   "cell_type": "code",
   "execution_count": null,
   "metadata": {},
   "outputs": [],
   "source": [
    "%pip install pandas ast numpy scikit-learn "
   ]
  },
  {
   "cell_type": "code",
   "execution_count": 1,
   "metadata": {},
   "outputs": [],
   "source": [
    "import pandas as pd\n",
    "import ast\n",
    "import numpy as np"
   ]
  },
  {
   "cell_type": "code",
   "execution_count": null,
   "metadata": {},
   "outputs": [],
   "source": [
    "import kagglehub\n",
    "\n",
    "path = kagglehub.dataset_download(\"iqbalmaulana/indonesian-news-dataset\")\n",
    "\n",
    "print(\"Path to dataset files:\", path)"
   ]
  },
  {
   "cell_type": "code",
   "execution_count": null,
   "metadata": {},
   "outputs": [
    {
     "data": {
      "text/html": [
       "<div>\n",
       "<style scoped>\n",
       "    .dataframe tbody tr th:only-of-type {\n",
       "        vertical-align: middle;\n",
       "    }\n",
       "\n",
       "    .dataframe tbody tr th {\n",
       "        vertical-align: top;\n",
       "    }\n",
       "\n",
       "    .dataframe thead th {\n",
       "        text-align: right;\n",
       "    }\n",
       "</style>\n",
       "<table border=\"1\" class=\"dataframe\">\n",
       "  <thead>\n",
       "    <tr style=\"text-align: right;\">\n",
       "      <th></th>\n",
       "      <th>id</th>\n",
       "      <th>source</th>\n",
       "      <th>title</th>\n",
       "      <th>image</th>\n",
       "      <th>url</th>\n",
       "      <th>content</th>\n",
       "      <th>date</th>\n",
       "      <th>embedding</th>\n",
       "      <th>created_at</th>\n",
       "      <th>updated_at</th>\n",
       "      <th>summary</th>\n",
       "    </tr>\n",
       "  </thead>\n",
       "  <tbody>\n",
       "    <tr>\n",
       "      <th>0</th>\n",
       "      <td>83</td>\n",
       "      <td>tempo</td>\n",
       "      <td>Depo Plumpang Terbakar, Anggota DPR Minta Pert...</td>\n",
       "      <td>https://statik.tempo.co/data/2023/03/04/id_118...</td>\n",
       "      <td>https://nasional.tempo.co/read/1698528/depo-pl...</td>\n",
       "      <td>TEMPO.CO, Jakarta - Anggota Komisi VII DPR RI ...</td>\n",
       "      <td>2023-03-04 06:18:13+00</td>\n",
       "      <td>[-0.01590039,-0.034130897,0.005732614,-0.01853...</td>\n",
       "      <td>2023-03-04 07:03:39.039332</td>\n",
       "      <td>2023-03-04 07:03:39.039332</td>\n",
       "      <td>Anggota Komisi VII DPR RI Rofik Hananto menyay...</td>\n",
       "    </tr>\n",
       "    <tr>\n",
       "      <th>1</th>\n",
       "      <td>84</td>\n",
       "      <td>tempo</td>\n",
       "      <td>Jokowi Perintahkan Wapres Ma'ruf Amin Tinjau L...</td>\n",
       "      <td>https://statik.tempo.co/data/2023/03/04/id_118...</td>\n",
       "      <td>https://nasional.tempo.co/read/1698522/jokowi-...</td>\n",
       "      <td>TEMPO.CO, Jakarta - Presiden Joko Widodo atau ...</td>\n",
       "      <td>2023-03-04 06:04:38+00</td>\n",
       "      <td>[-0.017608976,-0.021786924,0.01547983,-0.00932...</td>\n",
       "      <td>2023-03-04 07:03:39.039332</td>\n",
       "      <td>2023-03-04 07:03:39.039332</td>\n",
       "      <td>Presiden Joko Widodo telah memerintahkan Wakil...</td>\n",
       "    </tr>\n",
       "    <tr>\n",
       "      <th>2</th>\n",
       "      <td>85</td>\n",
       "      <td>tempo</td>\n",
       "      <td>HNW Mendukung Jamaah Umroh First Travel Dapatk...</td>\n",
       "      <td>https://statik.tempo.co/data/2023/03/04/id_118...</td>\n",
       "      <td>https://nasional.tempo.co/read/1698527/hnw-men...</td>\n",
       "      <td>INFO NASIONAL - Wakil Ketua MPR RI Dr. H. M. H...</td>\n",
       "      <td>2023-03-04 06:18:04+00</td>\n",
       "      <td>[0.00841488,-0.023665192,0.006762431,-0.013723...</td>\n",
       "      <td>2023-03-04 07:03:39.039332</td>\n",
       "      <td>2023-03-04 07:03:39.039332</td>\n",
       "      <td>Wakil Ketua MPR RI Dr. H. M. Hidayat Nur Wahid...</td>\n",
       "    </tr>\n",
       "    <tr>\n",
       "      <th>3</th>\n",
       "      <td>86</td>\n",
       "      <td>tempo</td>\n",
       "      <td>Tim Dokkes Polri Telah Terima 14 Kantong Jenaz...</td>\n",
       "      <td>https://statik.tempo.co/data/2023/03/04/id_118...</td>\n",
       "      <td>https://nasional.tempo.co/read/1698540/tim-dok...</td>\n",
       "      <td>TEMPO.CO, Jakarta - Tim Kedokteran dan Kesehat...</td>\n",
       "      <td>2023-03-04 06:44:10+00</td>\n",
       "      <td>[-0.012671886,-0.0039057182,0.019575326,-0.016...</td>\n",
       "      <td>2023-03-04 07:03:39.039332</td>\n",
       "      <td>2023-03-04 07:03:39.039332</td>\n",
       "      <td>Tim Kedokteran dan Kesehatan (Dokkes) Polri te...</td>\n",
       "    </tr>\n",
       "    <tr>\n",
       "      <th>4</th>\n",
       "      <td>87</td>\n",
       "      <td>tempo</td>\n",
       "      <td>Bamsoet Ajak Komunitas Otomotif Kembangkan Per...</td>\n",
       "      <td>https://statik.tempo.co/data/2023/03/04/id_118...</td>\n",
       "      <td>https://nasional.tempo.co/read/1698536/bamsoet...</td>\n",
       "      <td>INFO NASIONAL - Ketua MPR RI sekaligus Ketua U...</td>\n",
       "      <td>2023-03-04 06:38:57+00</td>\n",
       "      <td>[-0.015486176,-0.0125719,-0.0122843925,-0.0343...</td>\n",
       "      <td>2023-03-04 07:03:39.039332</td>\n",
       "      <td>2023-03-04 07:03:39.039332</td>\n",
       "      <td>Ketua MPR RI Bambang Soesatyo telah diangkat s...</td>\n",
       "    </tr>\n",
       "  </tbody>\n",
       "</table>\n",
       "</div>"
      ],
      "text/plain": [
       "   id source                                              title  \\\n",
       "0  83  tempo  Depo Plumpang Terbakar, Anggota DPR Minta Pert...   \n",
       "1  84  tempo  Jokowi Perintahkan Wapres Ma'ruf Amin Tinjau L...   \n",
       "2  85  tempo  HNW Mendukung Jamaah Umroh First Travel Dapatk...   \n",
       "3  86  tempo  Tim Dokkes Polri Telah Terima 14 Kantong Jenaz...   \n",
       "4  87  tempo  Bamsoet Ajak Komunitas Otomotif Kembangkan Per...   \n",
       "\n",
       "                                               image  \\\n",
       "0  https://statik.tempo.co/data/2023/03/04/id_118...   \n",
       "1  https://statik.tempo.co/data/2023/03/04/id_118...   \n",
       "2  https://statik.tempo.co/data/2023/03/04/id_118...   \n",
       "3  https://statik.tempo.co/data/2023/03/04/id_118...   \n",
       "4  https://statik.tempo.co/data/2023/03/04/id_118...   \n",
       "\n",
       "                                                 url  \\\n",
       "0  https://nasional.tempo.co/read/1698528/depo-pl...   \n",
       "1  https://nasional.tempo.co/read/1698522/jokowi-...   \n",
       "2  https://nasional.tempo.co/read/1698527/hnw-men...   \n",
       "3  https://nasional.tempo.co/read/1698540/tim-dok...   \n",
       "4  https://nasional.tempo.co/read/1698536/bamsoet...   \n",
       "\n",
       "                                             content                    date  \\\n",
       "0  TEMPO.CO, Jakarta - Anggota Komisi VII DPR RI ...  2023-03-04 06:18:13+00   \n",
       "1  TEMPO.CO, Jakarta - Presiden Joko Widodo atau ...  2023-03-04 06:04:38+00   \n",
       "2  INFO NASIONAL - Wakil Ketua MPR RI Dr. H. M. H...  2023-03-04 06:18:04+00   \n",
       "3  TEMPO.CO, Jakarta - Tim Kedokteran dan Kesehat...  2023-03-04 06:44:10+00   \n",
       "4  INFO NASIONAL - Ketua MPR RI sekaligus Ketua U...  2023-03-04 06:38:57+00   \n",
       "\n",
       "                                           embedding  \\\n",
       "0  [-0.01590039,-0.034130897,0.005732614,-0.01853...   \n",
       "1  [-0.017608976,-0.021786924,0.01547983,-0.00932...   \n",
       "2  [0.00841488,-0.023665192,0.006762431,-0.013723...   \n",
       "3  [-0.012671886,-0.0039057182,0.019575326,-0.016...   \n",
       "4  [-0.015486176,-0.0125719,-0.0122843925,-0.0343...   \n",
       "\n",
       "                   created_at                  updated_at  \\\n",
       "0  2023-03-04 07:03:39.039332  2023-03-04 07:03:39.039332   \n",
       "1  2023-03-04 07:03:39.039332  2023-03-04 07:03:39.039332   \n",
       "2  2023-03-04 07:03:39.039332  2023-03-04 07:03:39.039332   \n",
       "3  2023-03-04 07:03:39.039332  2023-03-04 07:03:39.039332   \n",
       "4  2023-03-04 07:03:39.039332  2023-03-04 07:03:39.039332   \n",
       "\n",
       "                                             summary  \n",
       "0  Anggota Komisi VII DPR RI Rofik Hananto menyay...  \n",
       "1  Presiden Joko Widodo telah memerintahkan Wakil...  \n",
       "2  Wakil Ketua MPR RI Dr. H. M. Hidayat Nur Wahid...  \n",
       "3  Tim Kedokteran dan Kesehatan (Dokkes) Polri te...  \n",
       "4  Ketua MPR RI Bambang Soesatyo telah diangkat s...  "
      ]
     },
     "execution_count": 2,
     "metadata": {},
     "output_type": "execute_result"
    }
   ],
   "source": [
    "# df = pd.read_csv('../data/data.csv')\n",
    "df = pd.read_csv(path + '/data.csv')\n",
    "df.head()"
   ]
  },
  {
   "cell_type": "code",
   "execution_count": 3,
   "metadata": {},
   "outputs": [
    {
     "data": {
      "text/plain": [
       "id              0\n",
       "source          0\n",
       "title           0\n",
       "image         157\n",
       "url             0\n",
       "content         0\n",
       "date            0\n",
       "embedding       0\n",
       "created_at      0\n",
       "updated_at      0\n",
       "summary        10\n",
       "dtype: int64"
      ]
     },
     "execution_count": 3,
     "metadata": {},
     "output_type": "execute_result"
    }
   ],
   "source": [
    "df = df.dropna(subset=['content'])\n",
    "df.isnull().sum()"
   ]
  },
  {
   "cell_type": "code",
   "execution_count": 4,
   "metadata": {},
   "outputs": [
    {
     "name": "stdout",
     "output_type": "stream",
     "text": [
      "<class 'pandas.core.frame.DataFrame'>\n",
      "Index: 32294 entries, 0 to 32734\n",
      "Data columns (total 11 columns):\n",
      " #   Column      Non-Null Count  Dtype \n",
      "---  ------      --------------  ----- \n",
      " 0   id          32294 non-null  int64 \n",
      " 1   source      32294 non-null  object\n",
      " 2   title       32294 non-null  object\n",
      " 3   image       32137 non-null  object\n",
      " 4   url         32294 non-null  object\n",
      " 5   content     32294 non-null  object\n",
      " 6   date        32294 non-null  object\n",
      " 7   embedding   32294 non-null  object\n",
      " 8   created_at  32294 non-null  object\n",
      " 9   updated_at  32294 non-null  object\n",
      " 10  summary     32284 non-null  object\n",
      "dtypes: int64(1), object(10)\n",
      "memory usage: 3.0+ MB\n"
     ]
    }
   ],
   "source": [
    "df.info()"
   ]
  },
  {
   "cell_type": "code",
   "execution_count": 5,
   "metadata": {},
   "outputs": [],
   "source": [
    "df = df.drop(columns=['image', 'created_at', 'updated_at', 'summary', 'date', 'url'])"
   ]
  },
  {
   "cell_type": "code",
   "execution_count": 6,
   "metadata": {},
   "outputs": [],
   "source": [
    "df = df.sort_values(by='id')"
   ]
  },
  {
   "cell_type": "code",
   "execution_count": 7,
   "metadata": {},
   "outputs": [],
   "source": [
    "df = df.reset_index(drop=True)"
   ]
  },
  {
   "cell_type": "code",
   "execution_count": 8,
   "metadata": {},
   "outputs": [
    {
     "data": {
      "text/html": [
       "<div>\n",
       "<style scoped>\n",
       "    .dataframe tbody tr th:only-of-type {\n",
       "        vertical-align: middle;\n",
       "    }\n",
       "\n",
       "    .dataframe tbody tr th {\n",
       "        vertical-align: top;\n",
       "    }\n",
       "\n",
       "    .dataframe thead th {\n",
       "        text-align: right;\n",
       "    }\n",
       "</style>\n",
       "<table border=\"1\" class=\"dataframe\">\n",
       "  <thead>\n",
       "    <tr style=\"text-align: right;\">\n",
       "      <th></th>\n",
       "      <th>id</th>\n",
       "      <th>source</th>\n",
       "      <th>title</th>\n",
       "      <th>content</th>\n",
       "      <th>embedding</th>\n",
       "    </tr>\n",
       "  </thead>\n",
       "  <tbody>\n",
       "    <tr>\n",
       "      <th>0</th>\n",
       "      <td>33</td>\n",
       "      <td>tempo</td>\n",
       "      <td>Kapolri Instruksikan Proses Tegas Kasus Suap P...</td>\n",
       "      <td>TEMPO.CO, Yogyakarta- Kapolri Jenderal Listyo ...</td>\n",
       "      <td>[0.006670293,-0.008296051,0.018612592,-0.01163...</td>\n",
       "    </tr>\n",
       "    <tr>\n",
       "      <th>1</th>\n",
       "      <td>34</td>\n",
       "      <td>tempo</td>\n",
       "      <td>Terdampak Banjir, Mentan Siap Bantu Petani di ...</td>\n",
       "      <td>INFO NASIONAL - Menteri Pertanian Syahrul Yasi...</td>\n",
       "      <td>[-0.013915301,-0.018322684,0.012273976,-0.0048...</td>\n",
       "    </tr>\n",
       "    <tr>\n",
       "      <th>2</th>\n",
       "      <td>35</td>\n",
       "      <td>tempo</td>\n",
       "      <td>Kementan Upayakan Perizinan Mudah, Cepat, dan ...</td>\n",
       "      <td>INFO NASIONAL - Kementerian Pertanian memastik...</td>\n",
       "      <td>[0.015555209,-0.015595161,-0.001956054,-0.0336...</td>\n",
       "    </tr>\n",
       "    <tr>\n",
       "      <th>3</th>\n",
       "      <td>36</td>\n",
       "      <td>tempo</td>\n",
       "      <td>Wapres Maruf Amin Dorong Pengusaha Sawit Perku...</td>\n",
       "      <td>INFO NASIONAL  Para pengusaha yang tergabung d...</td>\n",
       "      <td>[0.0035903626,-0.015759699,0.008853396,-0.0073...</td>\n",
       "    </tr>\n",
       "    <tr>\n",
       "      <th>4</th>\n",
       "      <td>37</td>\n",
       "      <td>tempo</td>\n",
       "      <td>Menpan RB: Minat ASN Muda Pindah ke IKN Nusant...</td>\n",
       "      <td>TEMPO.CO, Malang - Menteri Pendayagunaan Apara...</td>\n",
       "      <td>[-0.00013789257,-0.03197872,0.012931213,0.0022...</td>\n",
       "    </tr>\n",
       "  </tbody>\n",
       "</table>\n",
       "</div>"
      ],
      "text/plain": [
       "   id source                                              title  \\\n",
       "0  33  tempo  Kapolri Instruksikan Proses Tegas Kasus Suap P...   \n",
       "1  34  tempo  Terdampak Banjir, Mentan Siap Bantu Petani di ...   \n",
       "2  35  tempo  Kementan Upayakan Perizinan Mudah, Cepat, dan ...   \n",
       "3  36  tempo  Wapres Maruf Amin Dorong Pengusaha Sawit Perku...   \n",
       "4  37  tempo  Menpan RB: Minat ASN Muda Pindah ke IKN Nusant...   \n",
       "\n",
       "                                             content  \\\n",
       "0  TEMPO.CO, Yogyakarta- Kapolri Jenderal Listyo ...   \n",
       "1  INFO NASIONAL - Menteri Pertanian Syahrul Yasi...   \n",
       "2  INFO NASIONAL - Kementerian Pertanian memastik...   \n",
       "3  INFO NASIONAL  Para pengusaha yang tergabung d...   \n",
       "4  TEMPO.CO, Malang - Menteri Pendayagunaan Apara...   \n",
       "\n",
       "                                           embedding  \n",
       "0  [0.006670293,-0.008296051,0.018612592,-0.01163...  \n",
       "1  [-0.013915301,-0.018322684,0.012273976,-0.0048...  \n",
       "2  [0.015555209,-0.015595161,-0.001956054,-0.0336...  \n",
       "3  [0.0035903626,-0.015759699,0.008853396,-0.0073...  \n",
       "4  [-0.00013789257,-0.03197872,0.012931213,0.0022...  "
      ]
     },
     "execution_count": 8,
     "metadata": {},
     "output_type": "execute_result"
    }
   ],
   "source": [
    "df.head()"
   ]
  },
  {
   "cell_type": "code",
   "execution_count": 9,
   "metadata": {},
   "outputs": [],
   "source": [
    "df['id'] = range(len(df))\n"
   ]
  },
  {
   "cell_type": "code",
   "execution_count": 10,
   "metadata": {},
   "outputs": [],
   "source": [
    "df['source'] = df['source'].astype(str)\n",
    "df['title'] = df['title'].astype(str)\n",
    "df['content'] = df['content'].astype(str)"
   ]
  },
  {
   "cell_type": "code",
   "execution_count": 11,
   "metadata": {},
   "outputs": [],
   "source": [
    "df['embedding'] = df['embedding'].apply(lambda x: ast.literal_eval(x))"
   ]
  },
  {
   "cell_type": "code",
   "execution_count": 14,
   "metadata": {},
   "outputs": [
    {
     "data": {
      "text/html": [
       "<div>\n",
       "<style scoped>\n",
       "    .dataframe tbody tr th:only-of-type {\n",
       "        vertical-align: middle;\n",
       "    }\n",
       "\n",
       "    .dataframe tbody tr th {\n",
       "        vertical-align: top;\n",
       "    }\n",
       "\n",
       "    .dataframe thead th {\n",
       "        text-align: right;\n",
       "    }\n",
       "</style>\n",
       "<table border=\"1\" class=\"dataframe\">\n",
       "  <thead>\n",
       "    <tr style=\"text-align: right;\">\n",
       "      <th></th>\n",
       "      <th>id</th>\n",
       "      <th>source</th>\n",
       "      <th>title</th>\n",
       "      <th>content</th>\n",
       "      <th>embedding</th>\n",
       "    </tr>\n",
       "  </thead>\n",
       "  <tbody>\n",
       "    <tr>\n",
       "      <th>0</th>\n",
       "      <td>0</td>\n",
       "      <td>tempo</td>\n",
       "      <td>Kapolri Instruksikan Proses Tegas Kasus Suap P...</td>\n",
       "      <td>TEMPO.CO, Yogyakarta- Kapolri Jenderal Listyo ...</td>\n",
       "      <td>[0.006670293, -0.008296051, 0.018612592, -0.01...</td>\n",
       "    </tr>\n",
       "    <tr>\n",
       "      <th>1</th>\n",
       "      <td>1</td>\n",
       "      <td>tempo</td>\n",
       "      <td>Terdampak Banjir, Mentan Siap Bantu Petani di ...</td>\n",
       "      <td>INFO NASIONAL - Menteri Pertanian Syahrul Yasi...</td>\n",
       "      <td>[-0.013915301, -0.018322684, 0.012273976, -0.0...</td>\n",
       "    </tr>\n",
       "    <tr>\n",
       "      <th>2</th>\n",
       "      <td>2</td>\n",
       "      <td>tempo</td>\n",
       "      <td>Kementan Upayakan Perizinan Mudah, Cepat, dan ...</td>\n",
       "      <td>INFO NASIONAL - Kementerian Pertanian memastik...</td>\n",
       "      <td>[0.015555209, -0.015595161, -0.001956054, -0.0...</td>\n",
       "    </tr>\n",
       "    <tr>\n",
       "      <th>3</th>\n",
       "      <td>3</td>\n",
       "      <td>tempo</td>\n",
       "      <td>Wapres Maruf Amin Dorong Pengusaha Sawit Perku...</td>\n",
       "      <td>INFO NASIONAL  Para pengusaha yang tergabung d...</td>\n",
       "      <td>[0.0035903626, -0.015759699, 0.008853396, -0.0...</td>\n",
       "    </tr>\n",
       "    <tr>\n",
       "      <th>4</th>\n",
       "      <td>4</td>\n",
       "      <td>tempo</td>\n",
       "      <td>Menpan RB: Minat ASN Muda Pindah ke IKN Nusant...</td>\n",
       "      <td>TEMPO.CO, Malang - Menteri Pendayagunaan Apara...</td>\n",
       "      <td>[-0.00013789257, -0.03197872, 0.012931213, 0.0...</td>\n",
       "    </tr>\n",
       "  </tbody>\n",
       "</table>\n",
       "</div>"
      ],
      "text/plain": [
       "   id source                                              title  \\\n",
       "0   0  tempo  Kapolri Instruksikan Proses Tegas Kasus Suap P...   \n",
       "1   1  tempo  Terdampak Banjir, Mentan Siap Bantu Petani di ...   \n",
       "2   2  tempo  Kementan Upayakan Perizinan Mudah, Cepat, dan ...   \n",
       "3   3  tempo  Wapres Maruf Amin Dorong Pengusaha Sawit Perku...   \n",
       "4   4  tempo  Menpan RB: Minat ASN Muda Pindah ke IKN Nusant...   \n",
       "\n",
       "                                             content  \\\n",
       "0  TEMPO.CO, Yogyakarta- Kapolri Jenderal Listyo ...   \n",
       "1  INFO NASIONAL - Menteri Pertanian Syahrul Yasi...   \n",
       "2  INFO NASIONAL - Kementerian Pertanian memastik...   \n",
       "3  INFO NASIONAL  Para pengusaha yang tergabung d...   \n",
       "4  TEMPO.CO, Malang - Menteri Pendayagunaan Apara...   \n",
       "\n",
       "                                           embedding  \n",
       "0  [0.006670293, -0.008296051, 0.018612592, -0.01...  \n",
       "1  [-0.013915301, -0.018322684, 0.012273976, -0.0...  \n",
       "2  [0.015555209, -0.015595161, -0.001956054, -0.0...  \n",
       "3  [0.0035903626, -0.015759699, 0.008853396, -0.0...  \n",
       "4  [-0.00013789257, -0.03197872, 0.012931213, 0.0...  "
      ]
     },
     "execution_count": 14,
     "metadata": {},
     "output_type": "execute_result"
    }
   ],
   "source": [
    "df.head()"
   ]
  },
  {
   "cell_type": "code",
   "execution_count": null,
   "metadata": {},
   "outputs": [],
   "source": [
    "def convertEmbeddingStringToFloat(df, embedding_column):\n",
    "     X = np.array(df[embedding_column].to_list(), dtype=np.float32)\n",
    "     return X"
   ]
  },
  {
   "cell_type": "code",
   "execution_count": null,
   "metadata": {},
   "outputs": [],
   "source": [
    "X = convertEmbeddingStringToFloat(df, 'embedding')"
   ]
  },
  {
   "cell_type": "code",
   "execution_count": null,
   "metadata": {},
   "outputs": [],
   "source": [
    "np.save('../data/embeddings.npy', X)"
   ]
  },
  {
   "cell_type": "code",
   "execution_count": null,
   "metadata": {},
   "outputs": [],
   "source": [
    "from sklearn.manifold import TSNE"
   ]
  },
  {
   "cell_type": "code",
   "execution_count": null,
   "metadata": {},
   "outputs": [],
   "source": [
    "def reduceDimension(X, perplexity, n_components=2):\n",
    "    tsne = TSNE(n_components=n_components, random_state=123, perplexity=perplexity)\n",
    "    tsne_results = tsne.fit_transform(X)\n",
    "    return tsne_results\n",
    "\n",
    "def convertTSNEtoDF(df, tsne_results):\n",
    "    dimension = tsne_results.shape[1]\n",
    "    for i in range(dimension):\n",
    "        df[f'tsne-{dimension}d-{i+1}'] = tsne_results[:,i]\n",
    "    return df\n",
    "\n",
    "tsne_results_2d = reduceDimension(X, 50)\n",
    "df = convertTSNEtoDF(df, tsne_results_2d)\n",
    "\n",
    "tsne_results_3d = reduceDimension(X, 50,  n_components=3)\n",
    "df = convertTSNEtoDF(df, tsne_results_3d)"
   ]
  },
  {
   "cell_type": "code",
   "execution_count": null,
   "metadata": {},
   "outputs": [],
   "source": [
    "from sklearn.cluster import KMeans"
   ]
  },
  {
   "cell_type": "code",
   "execution_count": null,
   "metadata": {},
   "outputs": [],
   "source": [
    "kmeans = KMeans(n_clusters=6, random_state=123).fit(X)\n",
    "df['cluster'] =  kmeans.labels_ "
   ]
  },
  {
   "cell_type": "code",
   "execution_count": null,
   "metadata": {},
   "outputs": [],
   "source": [
    "df.to_parquet('../data/data_clustered_tsne.parquet.gzip', compression='gzip')"
   ]
  },
  {
   "cell_type": "code",
   "execution_count": 13,
   "metadata": {},
   "outputs": [],
   "source": [
    "# from Sastrawi.Stemmer.StemmerFactory import StemmerFactory\n",
    "# from Sastrawi.StopWordRemover.StopWordRemoverFactory import StopWordRemoverFactory\n",
    "# stopword_factory = StopWordRemoverFactory()\n",
    "# stopword = stopword_factory.create_stop_word_remover()\n",
    "\n",
    "# stemmer_factory = StemmerFactory()\n",
    "# stemmer = stemmer_factory.create_stemmer()"
   ]
  },
  {
   "cell_type": "code",
   "execution_count": null,
   "metadata": {},
   "outputs": [],
   "source": [
    "# import re\n",
    "# def preprocess_text(text):\n",
    "#     text = str(text)\n",
    "\n",
    "#     text = text.lower()\n",
    "\n",
    "#     text = re.sub(r'http\\S+', '', text)\n",
    "\n",
    "#     text = re.sub(r'(@\\w+|#\\w+)', '', text)\n",
    "\n",
    "#     text = re.sub(r'[^a-zA-Z\\s]', ' ', text)\n",
    "\n",
    "#     text = re.sub(r'\\n', ' ', text)\n",
    "\n",
    "#     text = stopword.remove(text)\n",
    "\n",
    "#     text = stemmer.stem(text)\n",
    "\n",
    "#     text = re.sub(r'\\s{2,}', ' ', text)\n",
    "#     return text"
   ]
  },
  {
   "cell_type": "code",
   "execution_count": null,
   "metadata": {},
   "outputs": [],
   "source": [
    "# import swifter\n",
    "# df['content'] = df['content'].swifter.apply(preprocess_text)"
   ]
  },
  {
   "cell_type": "code",
   "execution_count": null,
   "metadata": {},
   "outputs": [],
   "source": [
    "# from sklearn.model_selection import train_test_split\n",
    "# train_df, val_test_df = train_test_split(df, test_size=0.3, random_state=123)"
   ]
  },
  {
   "cell_type": "code",
   "execution_count": null,
   "metadata": {},
   "outputs": [],
   "source": [
    "# val_df, test_df = train_test_split(val_test_df, test_size=0.5, random_state=123)"
   ]
  },
  {
   "cell_type": "code",
   "execution_count": null,
   "metadata": {},
   "outputs": [],
   "source": [
    "# train_df.to_csv('../data/train_data.csv', index=False)\n",
    "# val_df.to_csv('../data/val_data.csv', index=False)\n",
    "# test_df.to_csv('../data/test_data.csv', index=False)"
   ]
  },
  {
   "cell_type": "code",
   "execution_count": null,
   "metadata": {},
   "outputs": [],
   "source": [
    "# dcp = pd.read_csv('../data/data_clean_preprocess.csv')\n",
    "# dcp.head()"
   ]
  }
 ],
 "metadata": {
  "kernelspec": {
   "display_name": "Python 3",
   "language": "python",
   "name": "python3"
  },
  "language_info": {
   "codemirror_mode": {
    "name": "ipython",
    "version": 3
   },
   "file_extension": ".py",
   "mimetype": "text/x-python",
   "name": "python",
   "nbconvert_exporter": "python",
   "pygments_lexer": "ipython3",
   "version": "3.12.6"
  }
 },
 "nbformat": 4,
 "nbformat_minor": 2
}
